{
 "cells": [
  {
   "cell_type": "code",
   "execution_count": 1,
   "metadata": {},
   "outputs": [],
   "source": [
    "import numpy as np\n",
    "import cv2\n",
    "import os"
   ]
  },
  {
   "cell_type": "code",
   "execution_count": 2,
   "metadata": {},
   "outputs": [],
   "source": [
    "def hashing_images(image, hashSize = 32):\n",
    "    gray = cv2.cvtColor(image, cv2.COLOR_BGR2GRAY)\n",
    "    resized = cv2.resize(gray, (hashSize , hashSize))\n",
    "    mean_img = np.mean(resized)\n",
    "    diff = resized[:,:] > mean_img\n",
    "    return sum([2 ** i for (i, v) in enumerate(diff.flatten()) if v])"
   ]
  },
  {
   "cell_type": "code",
   "execution_count": 3,
   "metadata": {},
   "outputs": [
    {
     "name": "stdout",
     "output_type": "stream",
     "text": [
      "computing image hashes...\n",
      "total images processed are: 7814\n"
     ]
    }
   ],
   "source": [
    "print(\"computing image hashes...\")\n",
    "hashes = {}\n",
    "images  = 0\n",
    "\n",
    "def import_image(folder):\n",
    "    add = []\n",
    "    for filename in os.listdir(folder):\n",
    "        add.append(os.path.join(folder,filename))\n",
    "    return add\n",
    "imagePaths = import_image(\"aug_dogs\")\n",
    "for addPath in imagePaths:\n",
    "    image = cv2.imread(addPath)\n",
    "    h = hashing_images(image)\n",
    "    images += 1\n",
    "    p = hashes.get(h, [])\n",
    "    p.append(addPath)\n",
    "    hashes[h] = p\n",
    "print(\"total images processed are:\" , images , sep = \" \")"
   ]
  },
  {
   "cell_type": "code",
   "execution_count": 4,
   "metadata": {},
   "outputs": [
    {
     "name": "stdout",
     "output_type": "stream",
     "text": [
      " total duplicates found are: 1010\n"
     ]
    }
   ],
   "source": [
    "duplicates = 0\n",
    "for (h, hashedPaths) in hashes.items():\n",
    "    if len(hashedPaths) > 1:\n",
    "        for p in hashedPaths[1:]:\n",
    "            os.remove(p)\n",
    "            duplicates += 1\n",
    "print(\" total duplicates found are:\", duplicates, sep = \" \")"
   ]
  }
 ],
 "metadata": {
  "kernelspec": {
   "display_name": "Python 3",
   "language": "python",
   "name": "python3"
  },
  "language_info": {
   "codemirror_mode": {
    "name": "ipython",
    "version": 3
   },
   "file_extension": ".py",
   "mimetype": "text/x-python",
   "name": "python",
   "nbconvert_exporter": "python",
   "pygments_lexer": "ipython3",
   "version": "3.7.3"
  }
 },
 "nbformat": 4,
 "nbformat_minor": 2
}
